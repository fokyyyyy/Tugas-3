{
 "cells": [
  {
   "cell_type": "code",
   "execution_count": 4,
   "id": "c3ac63a0",
   "metadata": {},
   "outputs": [
    {
     "name": "stdout",
     "output_type": "stream",
     "text": [
      "nama: M.Fauzi Ari Febrian\n",
      "kelas: TI22E\n",
      "jurusan: Teknik Informatika\n",
      "quote: Jadilah pemenang dari setiap tantangan\n"
     ]
    }
   ],
   "source": [
    "nama = 'M.Fauzi Ari Febrian'\n",
    "kelas = 'TI22E'\n",
    "jurusan = 'Teknik Informatika'\n",
    "quote = 'Jadilah pemenang dari setiap tantangan'\n",
    "\n",
    "print ('nama:', nama)\n",
    "print ('kelas:', kelas)\n",
    "print ('jurusan:', jurusan)\n",
    "print('quote:', quote)"
   ]
  }
 ],
 "metadata": {
  "kernelspec": {
   "display_name": "Python 3 (ipykernel)",
   "language": "python",
   "name": "python3"
  },
  "language_info": {
   "codemirror_mode": {
    "name": "ipython",
    "version": 3
   },
   "file_extension": ".py",
   "mimetype": "text/x-python",
   "name": "python",
   "nbconvert_exporter": "python",
   "pygments_lexer": "ipython3",
   "version": "3.9.12"
  }
 },
 "nbformat": 4,
 "nbformat_minor": 5
}
